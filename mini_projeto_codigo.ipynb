{
 "cells": [
  {
   "cell_type": "markdown",
   "source": [
    "### Importando base e tratando base de dados"
   ],
   "metadata": {
    "collapsed": false,
    "pycharm": {
     "name": "#%% md\n"
    }
   }
  },
  {
   "cell_type": "code",
   "execution_count": 1,
   "outputs": [
    {
     "data": {
      "text/plain": "     ID Funcionário Estado Civil           Nome Completo  Salario Base  \\\n0                 1            C        Gabriel Mesquita         21910   \n1                 2            C             João Haddad          5404   \n2                 3            C  Amanda Marques Ribeiro         16066   \n3                 4            C         Guilherme Nunez         21305   \n4                 5            C           Adelino Gomes          5098   \n..              ...          ...                     ...           ...   \n109             143            C   Renan Scharnhorst Ott         10793   \n110             144            S      Lucas Brum Pereira          4048   \n111             148            S            Caio Stellet         24596   \n112             149            C          Fernanda Rocha          5078   \n113             150            C            Eduardo Brum         15939   \n\n     Impostos  Beneficios   VT      VR       Cargo            Area  \n0     10955.0      4382.0  242  719.04     Diretor       Operações  \n1      2702.0      1080.8  154  574.56  Estagiário       Logística  \n2      8033.0      3213.2  154  729.12  Estagiário  Administrativo  \n3     10652.5      4261.0  220  524.16    Analista  Administrativo  \n4      2549.0      1019.6  176  725.76    Analista  Administrativo  \n..        ...         ...  ...     ...         ...             ...  \n109    5396.5      2158.6  242  514.08    Analista       Logística  \n110    2024.0       809.6  198  796.32  Estagiário       Comercial  \n111   12298.0      4919.2  242  561.12    Analista  Administrativo  \n112    2539.0      1015.6  308  665.28  Estagiário       Comercial  \n113    7969.5      3187.8  220  769.44    Analista       Comercial  \n\n[114 rows x 10 columns]",
      "text/html": "<div>\n<style scoped>\n    .dataframe tbody tr th:only-of-type {\n        vertical-align: middle;\n    }\n\n    .dataframe tbody tr th {\n        vertical-align: top;\n    }\n\n    .dataframe thead th {\n        text-align: right;\n    }\n</style>\n<table border=\"1\" class=\"dataframe\">\n  <thead>\n    <tr style=\"text-align: right;\">\n      <th></th>\n      <th>ID Funcionário</th>\n      <th>Estado Civil</th>\n      <th>Nome Completo</th>\n      <th>Salario Base</th>\n      <th>Impostos</th>\n      <th>Beneficios</th>\n      <th>VT</th>\n      <th>VR</th>\n      <th>Cargo</th>\n      <th>Area</th>\n    </tr>\n  </thead>\n  <tbody>\n    <tr>\n      <th>0</th>\n      <td>1</td>\n      <td>C</td>\n      <td>Gabriel Mesquita</td>\n      <td>21910</td>\n      <td>10955.0</td>\n      <td>4382.0</td>\n      <td>242</td>\n      <td>719.04</td>\n      <td>Diretor</td>\n      <td>Operações</td>\n    </tr>\n    <tr>\n      <th>1</th>\n      <td>2</td>\n      <td>C</td>\n      <td>João Haddad</td>\n      <td>5404</td>\n      <td>2702.0</td>\n      <td>1080.8</td>\n      <td>154</td>\n      <td>574.56</td>\n      <td>Estagiário</td>\n      <td>Logística</td>\n    </tr>\n    <tr>\n      <th>2</th>\n      <td>3</td>\n      <td>C</td>\n      <td>Amanda Marques Ribeiro</td>\n      <td>16066</td>\n      <td>8033.0</td>\n      <td>3213.2</td>\n      <td>154</td>\n      <td>729.12</td>\n      <td>Estagiário</td>\n      <td>Administrativo</td>\n    </tr>\n    <tr>\n      <th>3</th>\n      <td>4</td>\n      <td>C</td>\n      <td>Guilherme Nunez</td>\n      <td>21305</td>\n      <td>10652.5</td>\n      <td>4261.0</td>\n      <td>220</td>\n      <td>524.16</td>\n      <td>Analista</td>\n      <td>Administrativo</td>\n    </tr>\n    <tr>\n      <th>4</th>\n      <td>5</td>\n      <td>C</td>\n      <td>Adelino Gomes</td>\n      <td>5098</td>\n      <td>2549.0</td>\n      <td>1019.6</td>\n      <td>176</td>\n      <td>725.76</td>\n      <td>Analista</td>\n      <td>Administrativo</td>\n    </tr>\n    <tr>\n      <th>...</th>\n      <td>...</td>\n      <td>...</td>\n      <td>...</td>\n      <td>...</td>\n      <td>...</td>\n      <td>...</td>\n      <td>...</td>\n      <td>...</td>\n      <td>...</td>\n      <td>...</td>\n    </tr>\n    <tr>\n      <th>109</th>\n      <td>143</td>\n      <td>C</td>\n      <td>Renan Scharnhorst Ott</td>\n      <td>10793</td>\n      <td>5396.5</td>\n      <td>2158.6</td>\n      <td>242</td>\n      <td>514.08</td>\n      <td>Analista</td>\n      <td>Logística</td>\n    </tr>\n    <tr>\n      <th>110</th>\n      <td>144</td>\n      <td>S</td>\n      <td>Lucas Brum Pereira</td>\n      <td>4048</td>\n      <td>2024.0</td>\n      <td>809.6</td>\n      <td>198</td>\n      <td>796.32</td>\n      <td>Estagiário</td>\n      <td>Comercial</td>\n    </tr>\n    <tr>\n      <th>111</th>\n      <td>148</td>\n      <td>S</td>\n      <td>Caio Stellet</td>\n      <td>24596</td>\n      <td>12298.0</td>\n      <td>4919.2</td>\n      <td>242</td>\n      <td>561.12</td>\n      <td>Analista</td>\n      <td>Administrativo</td>\n    </tr>\n    <tr>\n      <th>112</th>\n      <td>149</td>\n      <td>C</td>\n      <td>Fernanda Rocha</td>\n      <td>5078</td>\n      <td>2539.0</td>\n      <td>1015.6</td>\n      <td>308</td>\n      <td>665.28</td>\n      <td>Estagiário</td>\n      <td>Comercial</td>\n    </tr>\n    <tr>\n      <th>113</th>\n      <td>150</td>\n      <td>C</td>\n      <td>Eduardo Brum</td>\n      <td>15939</td>\n      <td>7969.5</td>\n      <td>3187.8</td>\n      <td>220</td>\n      <td>769.44</td>\n      <td>Analista</td>\n      <td>Comercial</td>\n    </tr>\n  </tbody>\n</table>\n<p>114 rows × 10 columns</p>\n</div>"
     },
     "metadata": {},
     "output_type": "display_data"
    },
    {
     "data": {
      "text/plain": "     ID Cliente             Cliente  Valor Contrato Mensal\n0             1  Teixeira Gonçalves                    540\n1             2        Souza Santos                   1260\n2             3        Emídio Alves                   3195\n3             4        Santos Costa                   2520\n4             5         Do Monteiro                   3510\n..          ...                 ...                    ...\n315         316        Manoel Costa                   3690\n316         317       Gomes Machado                   2385\n317         318    Alkindar Cardozo                   3510\n318         319     Pereira Fazenda                   4185\n319         320   Americo Damasceno                   2430\n\n[320 rows x 3 columns]",
      "text/html": "<div>\n<style scoped>\n    .dataframe tbody tr th:only-of-type {\n        vertical-align: middle;\n    }\n\n    .dataframe tbody tr th {\n        vertical-align: top;\n    }\n\n    .dataframe thead th {\n        text-align: right;\n    }\n</style>\n<table border=\"1\" class=\"dataframe\">\n  <thead>\n    <tr style=\"text-align: right;\">\n      <th></th>\n      <th>ID Cliente</th>\n      <th>Cliente</th>\n      <th>Valor Contrato Mensal</th>\n    </tr>\n  </thead>\n  <tbody>\n    <tr>\n      <th>0</th>\n      <td>1</td>\n      <td>Teixeira Gonçalves</td>\n      <td>540</td>\n    </tr>\n    <tr>\n      <th>1</th>\n      <td>2</td>\n      <td>Souza Santos</td>\n      <td>1260</td>\n    </tr>\n    <tr>\n      <th>2</th>\n      <td>3</td>\n      <td>Emídio Alves</td>\n      <td>3195</td>\n    </tr>\n    <tr>\n      <th>3</th>\n      <td>4</td>\n      <td>Santos Costa</td>\n      <td>2520</td>\n    </tr>\n    <tr>\n      <th>4</th>\n      <td>5</td>\n      <td>Do Monteiro</td>\n      <td>3510</td>\n    </tr>\n    <tr>\n      <th>...</th>\n      <td>...</td>\n      <td>...</td>\n      <td>...</td>\n    </tr>\n    <tr>\n      <th>315</th>\n      <td>316</td>\n      <td>Manoel Costa</td>\n      <td>3690</td>\n    </tr>\n    <tr>\n      <th>316</th>\n      <td>317</td>\n      <td>Gomes Machado</td>\n      <td>2385</td>\n    </tr>\n    <tr>\n      <th>317</th>\n      <td>318</td>\n      <td>Alkindar Cardozo</td>\n      <td>3510</td>\n    </tr>\n    <tr>\n      <th>318</th>\n      <td>319</td>\n      <td>Pereira Fazenda</td>\n      <td>4185</td>\n    </tr>\n    <tr>\n      <th>319</th>\n      <td>320</td>\n      <td>Americo Damasceno</td>\n      <td>2430</td>\n    </tr>\n  </tbody>\n</table>\n<p>320 rows × 3 columns</p>\n</div>"
     },
     "metadata": {},
     "output_type": "display_data"
    },
    {
     "data": {
      "text/plain": "     Unnamed: 0 Codigo do Servico  ID Funcionário  ID Cliente  \\\n0             0            OS0001              67           1   \n1             1            OS0002              17           2   \n2             2            OS0003             116           4   \n3             3            OS0004              37           5   \n4             4            OS0005             130           6   \n..          ...               ...             ...         ...   \n232         232            OS0233             111         315   \n233         233            OS0234             124         316   \n234         234            OS0235              72         317   \n235         235            OS0236              90         319   \n236         236            OS0237              22         320   \n\n     Tempo Total de Contrato (Meses)  \n0                                 14  \n1                                 12  \n2                                 14  \n3                                  8  \n4                                  8  \n..                               ...  \n232                                4  \n233                                8  \n234                                6  \n235                               14  \n236                               12  \n\n[237 rows x 5 columns]",
      "text/html": "<div>\n<style scoped>\n    .dataframe tbody tr th:only-of-type {\n        vertical-align: middle;\n    }\n\n    .dataframe tbody tr th {\n        vertical-align: top;\n    }\n\n    .dataframe thead th {\n        text-align: right;\n    }\n</style>\n<table border=\"1\" class=\"dataframe\">\n  <thead>\n    <tr style=\"text-align: right;\">\n      <th></th>\n      <th>Unnamed: 0</th>\n      <th>Codigo do Servico</th>\n      <th>ID Funcionário</th>\n      <th>ID Cliente</th>\n      <th>Tempo Total de Contrato (Meses)</th>\n    </tr>\n  </thead>\n  <tbody>\n    <tr>\n      <th>0</th>\n      <td>0</td>\n      <td>OS0001</td>\n      <td>67</td>\n      <td>1</td>\n      <td>14</td>\n    </tr>\n    <tr>\n      <th>1</th>\n      <td>1</td>\n      <td>OS0002</td>\n      <td>17</td>\n      <td>2</td>\n      <td>12</td>\n    </tr>\n    <tr>\n      <th>2</th>\n      <td>2</td>\n      <td>OS0003</td>\n      <td>116</td>\n      <td>4</td>\n      <td>14</td>\n    </tr>\n    <tr>\n      <th>3</th>\n      <td>3</td>\n      <td>OS0004</td>\n      <td>37</td>\n      <td>5</td>\n      <td>8</td>\n    </tr>\n    <tr>\n      <th>4</th>\n      <td>4</td>\n      <td>OS0005</td>\n      <td>130</td>\n      <td>6</td>\n      <td>8</td>\n    </tr>\n    <tr>\n      <th>...</th>\n      <td>...</td>\n      <td>...</td>\n      <td>...</td>\n      <td>...</td>\n      <td>...</td>\n    </tr>\n    <tr>\n      <th>232</th>\n      <td>232</td>\n      <td>OS0233</td>\n      <td>111</td>\n      <td>315</td>\n      <td>4</td>\n    </tr>\n    <tr>\n      <th>233</th>\n      <td>233</td>\n      <td>OS0234</td>\n      <td>124</td>\n      <td>316</td>\n      <td>8</td>\n    </tr>\n    <tr>\n      <th>234</th>\n      <td>234</td>\n      <td>OS0235</td>\n      <td>72</td>\n      <td>317</td>\n      <td>6</td>\n    </tr>\n    <tr>\n      <th>235</th>\n      <td>235</td>\n      <td>OS0236</td>\n      <td>90</td>\n      <td>319</td>\n      <td>14</td>\n    </tr>\n    <tr>\n      <th>236</th>\n      <td>236</td>\n      <td>OS0237</td>\n      <td>22</td>\n      <td>320</td>\n      <td>12</td>\n    </tr>\n  </tbody>\n</table>\n<p>237 rows × 5 columns</p>\n</div>"
     },
     "metadata": {},
     "output_type": "display_data"
    }
   ],
   "source": [
    "import pandas as pd\n",
    "\n",
    "# Importando bases de dados e tratando\n",
    "cadastro_funcionarios_df = pd.read_csv('CadastroFuncionarios.csv', sep=';', decimal=',', encoding='utf-8')\n",
    "cadastro_cliente_df = pd.read_csv('CadastroClientes.csv', sep=';', encoding='utf-8')\n",
    "base_servicos_prestados_df = pd.read_csv('BaseServiçosPrestados.csv', sep=',', encoding='utf-8')\n",
    "\n",
    "# Exibindo base para consulta e validação da tratativa\n",
    "display(cadastro_funcionarios_df)\n",
    "display(cadastro_cliente_df)\n",
    "display(base_servicos_prestados_df)"
   ],
   "metadata": {
    "collapsed": false,
    "pycharm": {
     "name": "#%%\n"
    }
   }
  },
  {
   "cell_type": "markdown",
   "source": [
    "### 1. Valor total da Folha Salarial\n",
    "#### Colhendo somente dados necessarios e realizando o calculo"
   ],
   "metadata": {
    "collapsed": false,
    "pycharm": {
     "name": "#%% md\n"
    }
   }
  },
  {
   "cell_type": "code",
   "execution_count": 3,
   "outputs": [
    {
     "name": "stdout",
     "output_type": "stream",
     "text": [
      "Valor total da folha salaria:\n",
      "\t R$ 2,614,343.30\n"
     ]
    }
   ],
   "source": [
    "valortotal_folhasalarial = cadastro_funcionarios_df[['Salario Base', 'Impostos', 'Beneficios']]\n",
    "valortotal_folhasalarial = valortotal_folhasalarial['Salario Base'] + valortotal_folhasalarial['Impostos'] + valortotal_folhasalarial['Beneficios']\n",
    "valortotal_folhasalarial = valortotal_folhasalarial.sum()\n",
    "print(f'Valor total da folha salaria:\\n\\t R$ {valortotal_folhasalarial:,.2f}')"
   ],
   "metadata": {
    "collapsed": false,
    "pycharm": {
     "name": "#%%\n"
    }
   }
  },
  {
   "cell_type": "markdown",
   "source": [
    "### 2. Qual foi o faturamento da empresa?\n",
    "#### Filtrando e mesclando dados para realizar o calculo do faturamento"
   ],
   "metadata": {
    "collapsed": false,
    "pycharm": {
     "name": "#%% md\n"
    }
   }
  },
  {
   "cell_type": "code",
   "execution_count": 4,
   "outputs": [
    {
     "name": "stdout",
     "output_type": "stream",
     "text": [
      "Faturamento da empresa:\n",
      "\t R$ 5,519,160.00\n"
     ]
    }
   ],
   "source": [
    "# Filtrando dados\n",
    "cadastro_cliente = cadastro_cliente_df[['ID Cliente', 'Valor Contrato Mensal']]\n",
    "base_servicos_prestados = base_servicos_prestados_df[['ID Cliente', 'Tempo Total de Contrato (Meses)']]\n",
    "base_servicos_prestados = base_servicos_prestados.rename(columns={'Tempo Total de Contrato (Meses)': 'Meses de contrato'})\n",
    "# Mesclando dados\n",
    "base_servicos_prestados = base_servicos_prestados.merge(cadastro_cliente)\n",
    "# Calculo do faturamento\n",
    "multi_tcontrato_vcontrato = base_servicos_prestados['Meses de contrato'] * base_servicos_prestados['Valor Contrato Mensal']\n",
    "multi_tcontrato_vcontrato = multi_tcontrato_vcontrato.sum()\n",
    "print(f'Faturamento da empresa:\\n\\t R$ {multi_tcontrato_vcontrato:,.2f}')\n"
   ],
   "metadata": {
    "collapsed": false,
    "pycharm": {
     "name": "#%%\n"
    }
   }
  },
  {
   "cell_type": "markdown",
   "source": [
    "### 3. Qual o % de funcionários que já fechou algum contrato?"
   ],
   "metadata": {
    "collapsed": false,
    "pycharm": {
     "name": "#%% md\n"
    }
   }
  },
  {
   "cell_type": "code",
   "execution_count": 5,
   "outputs": [
    {
     "name": "stdout",
     "output_type": "stream",
     "text": [
      "Porcentagem de funcionario que fechou contrato:\n",
      "\t86.84%\n"
     ]
    }
   ],
   "source": [
    "funcionarios_vendas_fechadas = base_servicos_prestados_df[['ID Funcionário']]\n",
    "porcent_func_fechou_cont = ((len(funcionarios_vendas_fechadas['ID Funcionário'].unique()))) / len(cadastro_funcionarios_df['ID Funcionário'])\n",
    "print(f'Porcentagem de funcionario que fechou contrato:\\n\\t{porcent_func_fechou_cont:.2%}')"
   ],
   "metadata": {
    "collapsed": false,
    "pycharm": {
     "name": "#%%\n"
    }
   }
  },
  {
   "cell_type": "markdown",
   "source": [
    "### 4. Total funcionarios por área"
   ],
   "metadata": {
    "collapsed": false,
    "pycharm": {
     "name": "#%% md\n"
    }
   }
  },
  {
   "cell_type": "code",
   "execution_count": 6,
   "outputs": [
    {
     "name": "stdout",
     "output_type": "stream",
     "text": [
      "Operações possui: 23 funcionarios.\n",
      "Logística possui: 21 funcionarios.\n",
      "Administrativo possui: 26 funcionarios.\n",
      "Financeiro possui: 18 funcionarios.\n",
      "Comercial possui: 26 funcionarios.\n"
     ]
    }
   ],
   "source": [
    "funcionarios_area = cadastro_funcionarios_df['Area'].values # possivel usar values_counts() para obter uma tabela direta\n",
    "\n",
    "print(f'Operações possui: {len(funcionarios_area[funcionarios_area == \"Operações\"])} funcionarios.')\n",
    "print(f'Logística possui: {len(funcionarios_area[funcionarios_area == \"Logística\"])} funcionarios.')\n",
    "print(f'Administrativo possui: {len(funcionarios_area[funcionarios_area == \"Administrativo\"])} funcionarios.')\n",
    "print(f'Financeiro possui: {len(funcionarios_area[funcionarios_area == \"Financeiro\"])} funcionarios.')\n",
    "print(f'Comercial possui: {len(funcionarios_area[funcionarios_area == \"Comercial\"])} funcionarios.')\n"
   ],
   "metadata": {
    "collapsed": false,
    "pycharm": {
     "name": "#%%\n"
    }
   }
  },
  {
   "cell_type": "markdown",
   "source": [
    "### 5. Total de contratos que cada área da empresa já fechou\n",
    "#### Filtrando, mesclando e identificando contratos por area"
   ],
   "metadata": {
    "collapsed": false,
    "pycharm": {
     "name": "#%% md\n"
    }
   }
  },
  {
   "cell_type": "code",
   "execution_count": 7,
   "outputs": [
    {
     "name": "stdout",
     "output_type": "stream",
     "text": [
      "Operações fechou: 48 contratos.\n",
      "Logistica fechou: 40 contratos.\n",
      "Administrativo fechou: 63 contratos.\n",
      "Financeiro fechou: 42 contratos.\n",
      "Comercial fechou: 44 contratos.\n"
     ]
    }
   ],
   "source": [
    "# Filtrando dados\n",
    "id_funcionario_venda = base_servicos_prestados_df[['ID Funcionário']]\n",
    "id_funcionario_area = cadastro_funcionarios_df[['ID Funcionário', 'Area']]\n",
    "# Mesclando e renomeando dataframe\n",
    "id_area = id_funcionario_venda.merge(id_funcionario_area)\n",
    "# Identificando contratos por area\n",
    "contratos_area = id_area['Area'].values # possivel usar values_counts() para obter uma tabela direta\n",
    "\n",
    "print(f'Operações fechou: {len(contratos_area[contratos_area == \"Operações\"])} contratos.')\n",
    "print(f'Logistica fechou: {len(contratos_area[contratos_area == \"Logística\"])} contratos.')\n",
    "print(f'Administrativo fechou: {len(contratos_area[contratos_area == \"Administrativo\"])} contratos.')\n",
    "print(f'Financeiro fechou: {len(contratos_area[contratos_area == \"Financeiro\"])} contratos.')\n",
    "print(f'Comercial fechou: {len(contratos_area[contratos_area == \"Comercial\"])} contratos.')"
   ],
   "metadata": {
    "collapsed": false,
    "pycharm": {
     "name": "#%%\n"
    }
   }
  }
 ],
 "metadata": {
  "kernelspec": {
   "display_name": "Python 3",
   "language": "python",
   "name": "python3"
  },
  "language_info": {
   "codemirror_mode": {
    "name": "ipython",
    "version": 2
   },
   "file_extension": ".py",
   "mimetype": "text/x-python",
   "name": "python",
   "nbconvert_exporter": "python",
   "pygments_lexer": "ipython2",
   "version": "2.7.6"
  }
 },
 "nbformat": 4,
 "nbformat_minor": 0
}